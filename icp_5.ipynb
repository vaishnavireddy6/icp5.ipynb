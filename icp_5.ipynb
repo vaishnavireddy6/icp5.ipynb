{
  "nbformat": 4,
  "nbformat_minor": 0,
  "metadata": {
    "colab": {
      "provenance": []
    },
    "kernelspec": {
      "name": "python3",
      "display_name": "Python 3"
    },
    "language_info": {
      "name": "python"
    }
  },
  "cells": [
    {
      "cell_type": "code",
      "execution_count": 1,
      "metadata": {
        "colab": {
          "base_uri": "https://localhost:8080/"
        },
        "id": "2xgxSoHrk4yI",
        "outputId": "c0e9d402-c37b-4b84-98ac-3814c3a9c7eb"
      },
      "outputs": [
        {
          "output_type": "stream",
          "name": "stdout",
          "text": [
            "              precision    recall  f1-score   support\n",
            "\n",
            "           1       0.00      0.00      0.00        10\n",
            "           2       0.57      0.18      0.28        22\n",
            "           3       0.00      0.00      0.00         3\n",
            "           5       0.00      0.00      0.00         2\n",
            "           6       0.00      0.00      0.00         1\n",
            "           7       0.83      1.00      0.91         5\n",
            "\n",
            "    accuracy                           0.21        43\n",
            "   macro avg       0.23      0.20      0.20        43\n",
            "weighted avg       0.39      0.21      0.25        43\n",
            "\n",
            "Accuracy of naive bayes is  20.930232558139537\n"
          ]
        }
      ],
      "source": [
        "import pandas as pd\n",
        "from sklearn.model_selection import train_test_split\n",
        "from sklearn.naive_bayes import GaussianNB\n",
        "from sklearn.metrics import classification_report, accuracy_score\n",
        "glass_data = pd.read_csv('glass.csv')\n",
        "x_train = glass_data.drop(\"Type\", axis=1)\n",
        "y_train = glass_data['Type']\n",
        "x_train, x_test, y_train, y_test = train_test_split(x_train, y_train, test_size=0.2, random_state=7)\n",
        "gnb = GaussianNB()\n",
        "gnb.fit(x_train, y_train)\n",
        "y_pred = gnb.predict(x_test)\n",
        "q_rep = classification_report(y_test, y_pred)\n",
        "print(q_rep)\n",
        "print(\"Accuracy of naive bayes is \",  (accuracy_score(y_test, y_pred))*100)"
      ]
    },
    {
      "cell_type": "code",
      "source": [
        "import pandas as pd\n",
        "from sklearn.model_selection import train_test_split\n",
        "from sklearn.svm import SVC\n",
        "from sklearn.metrics import classification_report, accuracy_score\n",
        "glass_info = pd.read_csv('glass.csv')\n",
        "x_train = glass_info.drop(\"Type\", axis=1)\n",
        "y_train = glass_info['Type']\n",
        "x_train, x_test, y_train, y_test = train_test_split(x_train, y_train, test_size=0.2, random_state=4)\n",
        "svc = SVC()\n",
        "svc.fit(x_train, y_train)\n",
        "y_pred = svc.predict(x_test)\n",
        "q_rep = classification_report(y_test, y_pred, zero_division = 0)\n",
        "print(q_rep)\n",
        "print(\"The Accuracy of svm is: \", accuracy_score(y_test, y_pred)*100)"
      ],
      "metadata": {
        "colab": {
          "base_uri": "https://localhost:8080/"
        },
        "id": "qOIJCCqjlYsn",
        "outputId": "ed0592ab-1e0c-4ff2-fb17-5a634ecd82e8"
      },
      "execution_count": 2,
      "outputs": [
        {
          "output_type": "stream",
          "name": "stdout",
          "text": [
            "              precision    recall  f1-score   support\n",
            "\n",
            "           1       0.00      0.00      0.00        14\n",
            "           2       0.40      1.00      0.57        17\n",
            "           5       0.00      0.00      0.00         3\n",
            "           6       0.00      0.00      0.00         2\n",
            "           7       0.00      0.00      0.00         7\n",
            "\n",
            "    accuracy                           0.40        43\n",
            "   macro avg       0.08      0.20      0.11        43\n",
            "weighted avg       0.16      0.40      0.22        43\n",
            "\n",
            "The Accuracy of svm is:  39.53488372093023\n"
          ]
        }
      ]
    }
  ]
}